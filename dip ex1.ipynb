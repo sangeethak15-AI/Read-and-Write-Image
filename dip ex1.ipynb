{
 "cells": [
  {
   "cell_type": "code",
   "execution_count": null,
   "id": "7efc2b78",
   "metadata": {},
   "outputs": [],
   "source": [
    "import cv2\n",
    "clr_img=cv2.imread('cat1.jpg',1)\n",
    "cv2.imshow('catty',clr_img)\n",
    "cv2.waitKey(0)"
   ]
  },
  {
   "cell_type": "code",
   "execution_count": 3,
   "id": "402d5f7b",
   "metadata": {},
   "outputs": [
    {
     "data": {
      "text/plain": [
       "True"
      ]
     },
     "execution_count": 3,
     "metadata": {},
     "output_type": "execute_result"
    }
   ],
   "source": [
    "cv2.imwrite('created.jpg',clr_img)"
   ]
  },
  {
   "cell_type": "code",
   "execution_count": 4,
   "id": "3bf44a51",
   "metadata": {},
   "outputs": [
    {
     "name": "stdout",
     "output_type": "stream",
     "text": [
      "(455, 728, 3)\n"
     ]
    }
   ],
   "source": [
    "print(clr_img.shape)"
   ]
  },
  {
   "cell_type": "code",
   "execution_count": 1,
   "id": "cbd7b19d",
   "metadata": {},
   "outputs": [],
   "source": [
    "import cv2"
   ]
  },
  {
   "cell_type": "code",
   "execution_count": null,
   "id": "03794d2b",
   "metadata": {},
   "outputs": [],
   "source": [
    "tag = clr_img[300:400,300:400]\n",
    "clr_img[50:150,50:150] = tag\n",
    "cv2.imshow('part of image',clr_img)\n",
    "cv2.waitKey(0)\n",
    "cv2.destroyAllWindows()"
   ]
  },
  {
   "cell_type": "code",
   "execution_count": null,
   "id": "beab8472",
   "metadata": {},
   "outputs": [],
   "source": []
  }
 ],
 "metadata": {
  "kernelspec": {
   "display_name": "Python 3",
   "language": "python",
   "name": "python3"
  },
  "language_info": {
   "codemirror_mode": {
    "name": "ipython",
    "version": 3
   },
   "file_extension": ".py",
   "mimetype": "text/x-python",
   "name": "python",
   "nbconvert_exporter": "python",
   "pygments_lexer": "ipython3",
   "version": "3.8.8"
  }
 },
 "nbformat": 4,
 "nbformat_minor": 5
}
